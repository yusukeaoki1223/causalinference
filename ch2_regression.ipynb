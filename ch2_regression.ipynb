{
 "cells": [
  {
   "cell_type": "code",
   "execution_count": 4,
   "metadata": {},
   "outputs": [
    {
     "name": "stdout",
     "output_type": "stream",
     "text": [
      "C:\\Users\\Yusuke.Aoki\\Documents\\LocalEY\\事例集\\cibook\n"
     ]
    }
   ],
   "source": [
    "import pandas as pd\n",
    "from scipy import stats\n",
    "import joblib\n",
    "import statsmodels.api as sm\n",
    "import warnings\n",
    "warnings.filterwarnings('ignore')\n",
    "import os\n",
    "\n",
    "path = os.getcwd()\n",
    "\n",
    "print(path)"
   ]
  },
  {
   "cell_type": "code",
   "execution_count": 3,
   "metadata": {},
   "outputs": [],
   "source": [
    "#mail_df = pd.read_csv('http://www.minethatdata.com/Kevin_Hillstrom_MineThatData_E-MailAnalytics_DataMiningChallenge_2008.03.20.csv')"
   ]
  },
  {
   "cell_type": "markdown",
   "metadata": {},
   "source": [
    "### <font color=\"royalblue\">セレクションバイアスのあるデータの作成 </font>  "
   ]
  },
  {
   "cell_type": "code",
   "execution_count": 5,
   "metadata": {},
   "outputs": [],
   "source": [
    "\n",
    "dumped_male_df_path = '../data/male_df.joblib'\n",
    "dumped_biased_df_path = '../data/biased_df.joblib'\n",
    "\n",
    "if os.path.exists(dumped_male_df_path):\n",
    "    male_df = joblib.load(dumped_male_df_path)\n",
    "    biased_df = joblib.load(dumped_biased_df_path)\n",
    "else:\n",
    "    # セレクションバイアスのあるデータの作成\n",
    "    mail_df =pd.read_csv('Kevin_Hillstrom_MineThatData_E-MailAnalytics_DataMiningChallenge_2008.03.20.csv')\n",
    "    ### 女性向けメールが配信されたデータを削除したデータを作成\n",
    "    male_df = mail_df[mail_df.segment != 'Womens E-Mail'].copy() # 女性向けメールが配信されたデータを削除\n",
    "    male_df['treatment'] = male_df.segment.apply(lambda x: 1 if x == 'Mens E-Mail' else 0) #介入を表すtreatment変数を追加\n",
    "    ## バイアスのあるデータの作成\n",
    "    sample_rules = (male_df.history > 300) | (male_df.recency < 6) | (male_df.channel=='Multichannel')\n",
    "    biased_df = pd.concat([\n",
    "        male_df[(sample_rules) & (male_df.treatment == 0)].sample(frac=0.5, random_state=1),\n",
    "        male_df[(sample_rules) & (male_df.treatment == 1)],\n",
    "        male_df[(~sample_rules) & (male_df.treatment == 0)],\n",
    "        male_df[(~sample_rules) & (male_df.treatment == 1)].sample(frac=0.5, random_state=1)\n",
    "    ], axis=0, ignore_index=True)"
   ]
  },
  {
   "cell_type": "markdown",
   "metadata": {},
   "source": [
    "### <font color=\"royalblue\">バイアスのあるデータで回帰分析 </font>  "
   ]
  },
  {
   "cell_type": "code",
   "execution_count": 6,
   "metadata": {},
   "outputs": [],
   "source": [
    "## 回帰分析の実行\n",
    "y = biased_df.spend\n",
    "X = biased_df[['treatment', 'history']]\n",
    "X = sm.add_constant(X) # statsmodelsではβ0を明示的に入れてあげる必要がある\n",
    "model = sm.OLS(y, X)\n",
    "results = model.fit()"
   ]
  },
  {
   "cell_type": "code",
   "execution_count": 7,
   "metadata": {},
   "outputs": [
    {
     "data": {
      "text/html": [
       "<table class=\"simpletable\">\n",
       "<caption>OLS Regression Results</caption>\n",
       "<tr>\n",
       "  <th>Dep. Variable:</th>          <td>spend</td>      <th>  R-squared:         </th>  <td>   0.001</td>  \n",
       "</tr>\n",
       "<tr>\n",
       "  <th>Model:</th>                   <td>OLS</td>       <th>  Adj. R-squared:    </th>  <td>   0.001</td>  \n",
       "</tr>\n",
       "<tr>\n",
       "  <th>Method:</th>             <td>Least Squares</td>  <th>  F-statistic:       </th>  <td>   20.45</td>  \n",
       "</tr>\n",
       "<tr>\n",
       "  <th>Date:</th>             <td>Wed, 30 Sep 2020</td> <th>  Prob (F-statistic):</th>  <td>1.32e-09</td>  \n",
       "</tr>\n",
       "<tr>\n",
       "  <th>Time:</th>                 <td>20:31:01</td>     <th>  Log-Likelihood:    </th> <td>-1.3312e+05</td>\n",
       "</tr>\n",
       "<tr>\n",
       "  <th>No. Observations:</th>      <td> 31925</td>      <th>  AIC:               </th>  <td>2.663e+05</td> \n",
       "</tr>\n",
       "<tr>\n",
       "  <th>Df Residuals:</th>          <td> 31922</td>      <th>  BIC:               </th>  <td>2.663e+05</td> \n",
       "</tr>\n",
       "<tr>\n",
       "  <th>Df Model:</th>              <td>     2</td>      <th>                     </th>      <td> </td>     \n",
       "</tr>\n",
       "<tr>\n",
       "  <th>Covariance Type:</th>      <td>nonrobust</td>    <th>                     </th>      <td> </td>     \n",
       "</tr>\n",
       "</table>\n",
       "<table class=\"simpletable\">\n",
       "<tr>\n",
       "      <td></td>         <th>coef</th>     <th>std err</th>      <th>t</th>      <th>P>|t|</th>  <th>[0.025</th>    <th>0.975]</th>  \n",
       "</tr>\n",
       "<tr>\n",
       "  <th>const</th>     <td>    0.3413</td> <td>    0.147</td> <td>    2.327</td> <td> 0.020</td> <td>    0.054</td> <td>    0.629</td>\n",
       "</tr>\n",
       "<tr>\n",
       "  <th>treatment</th> <td>    0.9088</td> <td>    0.177</td> <td>    5.122</td> <td> 0.000</td> <td>    0.561</td> <td>    1.257</td>\n",
       "</tr>\n",
       "<tr>\n",
       "  <th>history</th>   <td>    0.0011</td> <td>    0.000</td> <td>    3.096</td> <td> 0.002</td> <td>    0.000</td> <td>    0.002</td>\n",
       "</tr>\n",
       "</table>\n",
       "<table class=\"simpletable\">\n",
       "<tr>\n",
       "  <th>Omnibus:</th>       <td>70760.532</td> <th>  Durbin-Watson:     </th>   <td>   2.002</td>   \n",
       "</tr>\n",
       "<tr>\n",
       "  <th>Prob(Omnibus):</th>  <td> 0.000</td>   <th>  Jarque-Bera (JB):  </th> <td>352134568.791</td>\n",
       "</tr>\n",
       "<tr>\n",
       "  <th>Skew:</th>           <td>20.807</td>   <th>  Prob(JB):          </th>   <td>    0.00</td>   \n",
       "</tr>\n",
       "<tr>\n",
       "  <th>Kurtosis:</th>       <td>515.825</td>  <th>  Cond. No.          </th>   <td>    833.</td>   \n",
       "</tr>\n",
       "</table><br/><br/>Warnings:<br/>[1] Standard Errors assume that the covariance matrix of the errors is correctly specified."
      ],
      "text/plain": [
       "<class 'statsmodels.iolib.summary.Summary'>\n",
       "\"\"\"\n",
       "                            OLS Regression Results                            \n",
       "==============================================================================\n",
       "Dep. Variable:                  spend   R-squared:                       0.001\n",
       "Model:                            OLS   Adj. R-squared:                  0.001\n",
       "Method:                 Least Squares   F-statistic:                     20.45\n",
       "Date:                Wed, 30 Sep 2020   Prob (F-statistic):           1.32e-09\n",
       "Time:                        20:31:01   Log-Likelihood:            -1.3312e+05\n",
       "No. Observations:               31925   AIC:                         2.663e+05\n",
       "Df Residuals:                   31922   BIC:                         2.663e+05\n",
       "Df Model:                           2                                         \n",
       "Covariance Type:            nonrobust                                         \n",
       "==============================================================================\n",
       "                 coef    std err          t      P>|t|      [0.025      0.975]\n",
       "------------------------------------------------------------------------------\n",
       "const          0.3413      0.147      2.327      0.020       0.054       0.629\n",
       "treatment      0.9088      0.177      5.122      0.000       0.561       1.257\n",
       "history        0.0011      0.000      3.096      0.002       0.000       0.002\n",
       "==============================================================================\n",
       "Omnibus:                    70760.532   Durbin-Watson:                   2.002\n",
       "Prob(Omnibus):                  0.000   Jarque-Bera (JB):        352134568.791\n",
       "Skew:                          20.807   Prob(JB):                         0.00\n",
       "Kurtosis:                     515.825   Cond. No.                         833.\n",
       "==============================================================================\n",
       "\n",
       "Warnings:\n",
       "[1] Standard Errors assume that the covariance matrix of the errors is correctly specified.\n",
       "\"\"\""
      ]
     },
     "execution_count": 7,
     "metadata": {},
     "output_type": "execute_result"
    }
   ],
   "source": [
    "## 分析結果のレポート\n",
    "summary = results.summary()\n",
    "summary"
   ]
  },
  {
   "cell_type": "code",
   "execution_count": 8,
   "metadata": {},
   "outputs": [
    {
     "data": {
      "text/html": [
       "<table class=\"simpletable\">\n",
       "<tr>\n",
       "      <td></td>         <th>coef</th>     <th>std err</th>      <th>t</th>      <th>P>|t|</th>  <th>[0.025</th>    <th>0.975]</th>  \n",
       "</tr>\n",
       "<tr>\n",
       "  <th>const</th>     <td>    0.3413</td> <td>    0.147</td> <td>    2.327</td> <td> 0.020</td> <td>    0.054</td> <td>    0.629</td>\n",
       "</tr>\n",
       "<tr>\n",
       "  <th>treatment</th> <td>    0.9088</td> <td>    0.177</td> <td>    5.122</td> <td> 0.000</td> <td>    0.561</td> <td>    1.257</td>\n",
       "</tr>\n",
       "<tr>\n",
       "  <th>history</th>   <td>    0.0011</td> <td>    0.000</td> <td>    3.096</td> <td> 0.002</td> <td>    0.000</td> <td>    0.002</td>\n",
       "</tr>\n",
       "</table>"
      ],
      "text/plain": [
       "<class 'statsmodels.iolib.table.SimpleTable'>"
      ]
     },
     "execution_count": 8,
     "metadata": {},
     "output_type": "execute_result"
    }
   ],
   "source": [
    "## 推定されたパラメーターの取り出し\n",
    "biased_reg_coef = summary.tables[1]\n",
    "biased_reg_coef"
   ]
  },
  {
   "cell_type": "markdown",
   "metadata": {},
   "source": [
    "### <font color=\"royalblue\">RCTデータでの回帰分析とバイアスのあるデータでの回帰分析の比較</font>"
   ]
  },
  {
   "cell_type": "code",
   "execution_count": 9,
   "metadata": {},
   "outputs": [
    {
     "data": {
      "text/html": [
       "<table class=\"simpletable\">\n",
       "<tr>\n",
       "      <td></td>         <th>coef</th>     <th>std err</th>      <th>t</th>      <th>P>|t|</th>  <th>[0.025</th>    <th>0.975]</th>  \n",
       "</tr>\n",
       "<tr>\n",
       "  <th>const</th>     <td>    0.6528</td> <td>    0.103</td> <td>    6.356</td> <td> 0.000</td> <td>    0.451</td> <td>    0.854</td>\n",
       "</tr>\n",
       "<tr>\n",
       "  <th>treatment</th> <td>    0.7698</td> <td>    0.145</td> <td>    5.300</td> <td> 0.000</td> <td>    0.485</td> <td>    1.055</td>\n",
       "</tr>\n",
       "</table>"
      ],
      "text/plain": [
       "<class 'statsmodels.iolib.table.SimpleTable'>"
      ]
     },
     "execution_count": 9,
     "metadata": {},
     "output_type": "execute_result"
    }
   ],
   "source": [
    "\n",
    "## RCTデータでの単回帰\n",
    "y = male_df.spend\n",
    "X = male_df[['treatment']]\n",
    "X = sm.add_constant(X)\n",
    "results = sm.OLS(y, X).fit()\n",
    "rct_reg_coef = results.summary().tables[1]\n",
    "rct_reg_coef"
   ]
  },
  {
   "cell_type": "code",
   "execution_count": 10,
   "metadata": {},
   "outputs": [
    {
     "data": {
      "text/html": [
       "<table class=\"simpletable\">\n",
       "<tr>\n",
       "      <td></td>         <th>coef</th>     <th>std err</th>      <th>t</th>      <th>P>|t|</th>  <th>[0.025</th>    <th>0.975]</th>  \n",
       "</tr>\n",
       "<tr>\n",
       "  <th>const</th>     <td>    0.5580</td> <td>    0.129</td> <td>    4.328</td> <td> 0.000</td> <td>    0.305</td> <td>    0.811</td>\n",
       "</tr>\n",
       "<tr>\n",
       "  <th>treatment</th> <td>    0.9837</td> <td>    0.176</td> <td>    5.596</td> <td> 0.000</td> <td>    0.639</td> <td>    1.328</td>\n",
       "</tr>\n",
       "</table>"
      ],
      "text/plain": [
       "<class 'statsmodels.iolib.table.SimpleTable'>"
      ]
     },
     "execution_count": 10,
     "metadata": {},
     "output_type": "execute_result"
    }
   ],
   "source": [
    "## バイアスのあるデータでの単回帰\n",
    "y = biased_df.spend\n",
    "X = biased_df[['treatment']]\n",
    "X = sm.add_constant(X)\n",
    "results = sm.OLS(y, X).fit()\n",
    "nonrct_reg_coef = results.summary().tables[1]\n",
    "nonrct_reg_coef"
   ]
  },
  {
   "cell_type": "code",
   "execution_count": 11,
   "metadata": {},
   "outputs": [
    {
     "data": {
      "text/html": [
       "<table class=\"simpletable\">\n",
       "<tr>\n",
       "        <td></td>           <th>coef</th>     <th>std err</th>      <th>t</th>      <th>P>|t|</th>  <th>[0.025</th>    <th>0.975]</th>  \n",
       "</tr>\n",
       "<tr>\n",
       "  <th>const</th>         <td>    0.4761</td> <td>    0.386</td> <td>    1.233</td> <td> 0.218</td> <td>   -0.281</td> <td>    1.233</td>\n",
       "</tr>\n",
       "<tr>\n",
       "  <th>treatment</th>     <td>    0.8617</td> <td>    0.181</td> <td>    4.750</td> <td> 0.000</td> <td>    0.506</td> <td>    1.217</td>\n",
       "</tr>\n",
       "<tr>\n",
       "  <th>recency</th>       <td>   -0.0361</td> <td>    0.026</td> <td>   -1.372</td> <td> 0.170</td> <td>   -0.088</td> <td>    0.015</td>\n",
       "</tr>\n",
       "<tr>\n",
       "  <th>history</th>       <td>    0.0010</td> <td>    0.000</td> <td>    2.655</td> <td> 0.008</td> <td>    0.000</td> <td>    0.002</td>\n",
       "</tr>\n",
       "<tr>\n",
       "  <th>channel_Phone</th> <td>   -0.0079</td> <td>    0.310</td> <td>   -0.025</td> <td> 0.980</td> <td>   -0.616</td> <td>    0.600</td>\n",
       "</tr>\n",
       "<tr>\n",
       "  <th>channel_Web</th>   <td>    0.2540</td> <td>    0.310</td> <td>    0.820</td> <td> 0.412</td> <td>   -0.353</td> <td>    0.861</td>\n",
       "</tr>\n",
       "</table>"
      ],
      "text/plain": [
       "<class 'statsmodels.iolib.table.SimpleTable'>"
      ]
     },
     "execution_count": 11,
     "metadata": {},
     "output_type": "execute_result"
    }
   ],
   "source": [
    "\n",
    "## バイアスのあるデータでの重回帰\n",
    "y = biased_df.spend\n",
    "# R lmではカテゴリ変数は自動的にダミー変数化されているのでそれを再現\n",
    "X = pd.get_dummies(biased_df[['treatment', 'recency', 'channel', 'history']], columns=['channel'], drop_first=True)\n",
    "X = sm.add_constant(X)\n",
    "results = sm.OLS(y, X).fit()\n",
    "nonrct_mreg_coef = results.summary().tables[1]\n",
    "nonrct_mreg_coef"
   ]
  },
  {
   "cell_type": "markdown",
   "metadata": {},
   "source": [
    "### <font color=\"royalblue\">OVB確認</font>"
   ]
  },
  {
   "cell_type": "code",
   "execution_count": 12,
   "metadata": {},
   "outputs": [],
   "source": [
    "## (a) history抜きの回帰分析とパラメーターの取り出し\n",
    "y = biased_df.spend\n",
    "X = pd.get_dummies(biased_df[['treatment', 'recency', 'channel']], columns=['channel'], drop_first=True)\n",
    "X = sm.add_constant(X)\n"
   ]
  },
  {
   "cell_type": "code",
   "execution_count": 13,
   "metadata": {},
   "outputs": [
    {
     "data": {
      "text/html": [
       "<div>\n",
       "<style scoped>\n",
       "    .dataframe tbody tr th:only-of-type {\n",
       "        vertical-align: middle;\n",
       "    }\n",
       "\n",
       "    .dataframe tbody tr th {\n",
       "        vertical-align: top;\n",
       "    }\n",
       "\n",
       "    .dataframe thead th {\n",
       "        text-align: right;\n",
       "    }\n",
       "</style>\n",
       "<table border=\"1\" class=\"dataframe\">\n",
       "  <thead>\n",
       "    <tr style=\"text-align: right;\">\n",
       "      <th></th>\n",
       "      <th>const</th>\n",
       "      <th>treatment</th>\n",
       "      <th>recency</th>\n",
       "      <th>channel_Phone</th>\n",
       "      <th>channel_Web</th>\n",
       "    </tr>\n",
       "  </thead>\n",
       "  <tbody>\n",
       "    <tr>\n",
       "      <th>0</th>\n",
       "      <td>1.0</td>\n",
       "      <td>0</td>\n",
       "      <td>8</td>\n",
       "      <td>0</td>\n",
       "      <td>1</td>\n",
       "    </tr>\n",
       "    <tr>\n",
       "      <th>1</th>\n",
       "      <td>1.0</td>\n",
       "      <td>0</td>\n",
       "      <td>5</td>\n",
       "      <td>1</td>\n",
       "      <td>0</td>\n",
       "    </tr>\n",
       "    <tr>\n",
       "      <th>2</th>\n",
       "      <td>1.0</td>\n",
       "      <td>0</td>\n",
       "      <td>1</td>\n",
       "      <td>1</td>\n",
       "      <td>0</td>\n",
       "    </tr>\n",
       "    <tr>\n",
       "      <th>3</th>\n",
       "      <td>1.0</td>\n",
       "      <td>0</td>\n",
       "      <td>1</td>\n",
       "      <td>0</td>\n",
       "      <td>1</td>\n",
       "    </tr>\n",
       "    <tr>\n",
       "      <th>4</th>\n",
       "      <td>1.0</td>\n",
       "      <td>0</td>\n",
       "      <td>5</td>\n",
       "      <td>0</td>\n",
       "      <td>1</td>\n",
       "    </tr>\n",
       "  </tbody>\n",
       "</table>\n",
       "</div>"
      ],
      "text/plain": [
       "   const  treatment  recency  channel_Phone  channel_Web\n",
       "0    1.0          0        8              0            1\n",
       "1    1.0          0        5              1            0\n",
       "2    1.0          0        1              1            0\n",
       "3    1.0          0        1              0            1\n",
       "4    1.0          0        5              0            1"
      ]
     },
     "execution_count": 13,
     "metadata": {},
     "output_type": "execute_result"
    }
   ],
   "source": [
    "X.head()"
   ]
  },
  {
   "cell_type": "code",
   "execution_count": 14,
   "metadata": {},
   "outputs": [],
   "source": [
    "results = sm.OLS(y, X).fit()\n",
    "short_coef = results.summary().tables[1]\n",
    "short_coef_df = pd.read_html(short_coef.as_html(), header=0, index_col=0)[0] #SimpleTableは扱いなれてないのでpandas DataFrameにする\n",
    "\n",
    "## aの結果から介入効果に関するパラメーターのみを取り出す\n",
    "alpha_1 = results.params['treatment'] # summaryのデータは小数点が四捨五入されているため、正確な値をとってくる"
   ]
  },
  {
   "cell_type": "code",
   "execution_count": 15,
   "metadata": {},
   "outputs": [
    {
     "data": {
      "text/html": [
       "<div>\n",
       "<style scoped>\n",
       "    .dataframe tbody tr th:only-of-type {\n",
       "        vertical-align: middle;\n",
       "    }\n",
       "\n",
       "    .dataframe tbody tr th {\n",
       "        vertical-align: top;\n",
       "    }\n",
       "\n",
       "    .dataframe thead th {\n",
       "        text-align: right;\n",
       "    }\n",
       "</style>\n",
       "<table border=\"1\" class=\"dataframe\">\n",
       "  <thead>\n",
       "    <tr style=\"text-align: right;\">\n",
       "      <th></th>\n",
       "      <th>coef</th>\n",
       "      <th>std err</th>\n",
       "      <th>t</th>\n",
       "      <th>P&gt;|t|</th>\n",
       "      <th>[0.025</th>\n",
       "      <th>0.975]</th>\n",
       "    </tr>\n",
       "  </thead>\n",
       "  <tbody>\n",
       "    <tr>\n",
       "      <th>const</th>\n",
       "      <td>1.0644</td>\n",
       "      <td>0.316</td>\n",
       "      <td>3.365</td>\n",
       "      <td>0.001</td>\n",
       "      <td>0.444</td>\n",
       "      <td>1.684</td>\n",
       "    </tr>\n",
       "    <tr>\n",
       "      <th>treatment</th>\n",
       "      <td>0.8905</td>\n",
       "      <td>0.181</td>\n",
       "      <td>4.917</td>\n",
       "      <td>0.000</td>\n",
       "      <td>0.536</td>\n",
       "      <td>1.245</td>\n",
       "    </tr>\n",
       "    <tr>\n",
       "      <th>recency</th>\n",
       "      <td>-0.0506</td>\n",
       "      <td>0.026</td>\n",
       "      <td>-1.965</td>\n",
       "      <td>0.049</td>\n",
       "      <td>-0.101</td>\n",
       "      <td>-0.000</td>\n",
       "    </tr>\n",
       "    <tr>\n",
       "      <th>channel_Phone</th>\n",
       "      <td>-0.3197</td>\n",
       "      <td>0.287</td>\n",
       "      <td>-1.114</td>\n",
       "      <td>0.265</td>\n",
       "      <td>-0.882</td>\n",
       "      <td>0.243</td>\n",
       "    </tr>\n",
       "    <tr>\n",
       "      <th>channel_Web</th>\n",
       "      <td>-0.0576</td>\n",
       "      <td>0.287</td>\n",
       "      <td>-0.201</td>\n",
       "      <td>0.841</td>\n",
       "      <td>-0.619</td>\n",
       "      <td>0.504</td>\n",
       "    </tr>\n",
       "  </tbody>\n",
       "</table>\n",
       "</div>"
      ],
      "text/plain": [
       "                 coef  std err      t  P>|t|  [0.025  0.975]\n",
       "const          1.0644    0.316  3.365  0.001   0.444   1.684\n",
       "treatment      0.8905    0.181  4.917  0.000   0.536   1.245\n",
       "recency       -0.0506    0.026 -1.965  0.049  -0.101  -0.000\n",
       "channel_Phone -0.3197    0.287 -1.114  0.265  -0.882   0.243\n",
       "channel_Web   -0.0576    0.287 -0.201  0.841  -0.619   0.504"
      ]
     },
     "execution_count": 15,
     "metadata": {},
     "output_type": "execute_result"
    }
   ],
   "source": [
    "short_coef_df"
   ]
  },
  {
   "cell_type": "code",
   "execution_count": 16,
   "metadata": {},
   "outputs": [
    {
     "data": {
      "text/plain": [
       "0.8904848031224664"
      ]
     },
     "execution_count": 16,
     "metadata": {},
     "output_type": "execute_result"
    }
   ],
   "source": [
    "alpha_1"
   ]
  },
  {
   "cell_type": "code",
   "execution_count": 17,
   "metadata": {},
   "outputs": [],
   "source": [
    "## (b) historyを追加した回帰分析とパラメーターの取り出し\n",
    "y = biased_df.spend\n",
    "X = pd.get_dummies(biased_df[['treatment', 'recency', 'channel', 'history']], columns=['channel'], drop_first=True)\n",
    "X = sm.add_constant(X)\n",
    "results = sm.OLS(y, X).fit()\n",
    "long_coef = results.summary().tables[1]\n",
    "long_coef_df = pd.read_html(long_coef.as_html(), header=0, index_col=0)[0] #SimpleTableは扱いなれてないのでpandas DataFrameにする\n",
    "\n",
    "## bの結果から介入とhistoryに関するパラメーターを取り出す\n",
    "beta_1 = results.params['treatment']\n",
    "beta_2 = results.params['history']"
   ]
  },
  {
   "cell_type": "code",
   "execution_count": 18,
   "metadata": {},
   "outputs": [],
   "source": [
    "\n",
    "## (c) 脱落した変数と介入変数での回帰分析\n",
    "y = biased_df.history\n",
    "X = pd.get_dummies(biased_df[['treatment', 'recency', 'channel']], columns=['channel'], drop_first=True)\n",
    "X = sm.add_constant(X)\n",
    "results = sm.OLS(y, X).fit()\n",
    "omitted_coef = results.summary().tables[1]\n",
    "omitted_coef_df = pd.read_html(omitted_coef.as_html(), header=0, index_col=0)[0] #SimpleTableは扱いなれてないのでpandas DataFrameにする\n",
    "gamma_1 = results.params['treatment']"
   ]
  },
  {
   "cell_type": "code",
   "execution_count": 19,
   "metadata": {},
   "outputs": [
    {
     "name": "stdout",
     "output_type": "stream",
     "text": [
      "0.02881642367683389\n",
      "0.028816423676818248\n"
     ]
    }
   ],
   "source": [
    "## OVBの確認\n",
    "print(beta_2 * gamma_1)\n",
    "print(alpha_1 - beta_1)"
   ]
  },
  {
   "cell_type": "code",
   "execution_count": null,
   "metadata": {},
   "outputs": [],
   "source": []
  }
 ],
 "metadata": {
  "kernelspec": {
   "display_name": "Python 3",
   "language": "python",
   "name": "python3"
  },
  "language_info": {
   "codemirror_mode": {
    "name": "ipython",
    "version": 3
   },
   "file_extension": ".py",
   "mimetype": "text/x-python",
   "name": "python",
   "nbconvert_exporter": "python",
   "pygments_lexer": "ipython3",
   "version": "3.8.3"
  }
 },
 "nbformat": 4,
 "nbformat_minor": 4
}
